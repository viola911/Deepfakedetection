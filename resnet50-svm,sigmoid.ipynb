{
 "cells": [
  {
   "cell_type": "code",
   "execution_count": 2,
   "id": "167a8788",
   "metadata": {},
   "outputs": [],
   "source": [
    "import matplotlib.pyplot as plt\n",
    "import numpy as np\n",
    "import os\n",
    "import PIL\n",
    "import tensorflow as tf\n",
    "from tensorflow import keras\n",
    "from tensorflow.keras import layers\n",
    "from tensorflow.keras.layers import Dense, Flatten\n",
    "from tensorflow.keras.models import Sequential\n",
    "from tensorflow.keras.optimizers import Adam\n",
    "from keras.preprocessing.image import ImageDataGenerator\n"
   ]
  },
  {
   "cell_type": "code",
   "execution_count": 3,
   "id": "6ac9f328",
   "metadata": {},
   "outputs": [
    {
     "name": "stdout",
     "output_type": "stream",
     "text": [
      "Found 101965 images belonging to 2 classes.\n"
     ]
    }
   ],
   "source": [
    "trainData = ImageDataGenerator()\n",
    "trainingdt = trainData.flow_from_directory(directory='RealvsFake/Training', target_size=(224,224))\n"
   ]
  },
  {
   "cell_type": "code",
   "execution_count": 4,
   "id": "d1578fda",
   "metadata": {},
   "outputs": [
    {
     "name": "stdout",
     "output_type": "stream",
     "text": [
      "Found 20076 images belonging to 2 classes.\n"
     ]
    }
   ],
   "source": [
    "testData = ImageDataGenerator()\n",
    "testingdt = testData.flow_from_directory(directory='RealvsFake/Testing', target_size=(224,224))\n"
   ]
  },
  {
   "cell_type": "code",
   "execution_count": 5,
   "id": "d070faee",
   "metadata": {},
   "outputs": [],
   "source": [
    "def preprocess(file_path):\n",
    "        byte_img = tf.io.read_file(file_path)\n",
    "        img = tf.io.decode_jpeg(byte_img)\n",
    "        img = tf.image.resize(img, (224,224))\n",
    "        img = img / 255.0\n",
    "        return img"
   ]
  },
  {
   "cell_type": "code",
   "execution_count": 6,
   "id": "0a6f3e0a",
   "metadata": {},
   "outputs": [],
   "source": [
    "resnet_model = Sequential()\n",
    "\n",
    "pretrained_model= tf.keras.applications.ResNet50(include_top=False,\n",
    "                   input_shape=(224,224,3),\n",
    "                   pooling='max',classes=2,\n",
    "                   weights='imagenet')\n",
    "for layer in pretrained_model.layers:\n",
    "        layer.trainable=False\n",
    "\n",
    "resnet_model.add(pretrained_model)"
   ]
  },
  {
   "cell_type": "code",
   "execution_count": 7,
   "id": "af94bbce",
   "metadata": {},
   "outputs": [],
   "source": [
    "resnet_model.add(Flatten())\n",
    "resnet_model.add(Dense(512, activation='relu'))\n",
    "resnet_model.add(Dense(512, activation='relu'))\n",
    "resnet_model.add(Dense(2, kernel_regularizer=tf.keras.regularizers.l2(0.01),activation\n",
    "             ='sigmoid'))"
   ]
  },
  {
   "cell_type": "code",
   "execution_count": 8,
   "id": "735a8c1c",
   "metadata": {},
   "outputs": [
    {
     "name": "stdout",
     "output_type": "stream",
     "text": [
      "Model: \"sequential\"\n",
      "_________________________________________________________________\n",
      "Layer (type)                 Output Shape              Param #   \n",
      "=================================================================\n",
      "resnet50 (Functional)        (None, 2048)              23587712  \n",
      "_________________________________________________________________\n",
      "flatten (Flatten)            (None, 2048)              0         \n",
      "_________________________________________________________________\n",
      "dense (Dense)                (None, 512)               1049088   \n",
      "_________________________________________________________________\n",
      "dense_1 (Dense)              (None, 512)               262656    \n",
      "_________________________________________________________________\n",
      "dense_2 (Dense)              (None, 2)                 1026      \n",
      "=================================================================\n",
      "Total params: 24,900,482\n",
      "Trainable params: 1,312,770\n",
      "Non-trainable params: 23,587,712\n",
      "_________________________________________________________________\n"
     ]
    }
   ],
   "source": [
    "resnet_model.summary()"
   ]
  },
  {
   "cell_type": "code",
   "execution_count": 31,
   "id": "0214ac9d",
   "metadata": {},
   "outputs": [
    {
     "name": "stdout",
     "output_type": "stream",
     "text": [
      "Epoch 1/10\n",
      "100/100 [==============================] - 376s 4s/step - loss: 0.9285 - accuracy: 0.6816 - val_loss: 0.5608 - val_accuracy: 0.7500\n",
      "Epoch 2/10\n",
      "100/100 [==============================] - 661s 7s/step - loss: 0.6214 - accuracy: 0.7091 - val_loss: 0.5271 - val_accuracy: 0.8000\n",
      "Epoch 3/10\n",
      "100/100 [==============================] - 688s 7s/step - loss: 0.5401 - accuracy: 0.7644 - val_loss: 0.5510 - val_accuracy: 0.7469\n",
      "Epoch 4/10\n",
      "100/100 [==============================] - 643s 6s/step - loss: 0.5318 - accuracy: 0.7616 - val_loss: 0.5370 - val_accuracy: 0.7656\n",
      "Epoch 5/10\n",
      "100/100 [==============================] - 628s 6s/step - loss: 0.5072 - accuracy: 0.7822 - val_loss: 0.4768 - val_accuracy: 0.8156\n",
      "Epoch 6/10\n",
      "100/100 [==============================] - 604s 6s/step - loss: 0.5337 - accuracy: 0.7588 - val_loss: 0.4867 - val_accuracy: 0.7844\n",
      "Epoch 7/10\n",
      "100/100 [==============================] - 614s 6s/step - loss: 0.4640 - accuracy: 0.8006 - val_loss: 0.4645 - val_accuracy: 0.7937\n",
      "Epoch 8/10\n",
      "100/100 [==============================] - 566s 6s/step - loss: 0.4708 - accuracy: 0.7925 - val_loss: 0.4593 - val_accuracy: 0.8156\n",
      "Epoch 9/10\n",
      "100/100 [==============================] - 618s 6s/step - loss: 0.4551 - accuracy: 0.8053 - val_loss: 0.4431 - val_accuracy: 0.8250\n",
      "Epoch 10/10\n",
      "100/100 [==============================] - 616s 6s/step - loss: 0.4727 - accuracy: 0.7912 - val_loss: 0.4439 - val_accuracy: 0.7937\n"
     ]
    }
   ],
   "source": [
    "resnet_model.compile(optimizer=Adam(lr=3e-4),loss='binary_crossentropy',metrics=['accuracy'])\n",
    "\n",
    "history = resnet_model.fit(trainingdt, validation_data=testingdt, epochs=10, steps_per_epoch=100, validation_steps=10)"
   ]
  },
  {
   "cell_type": "code",
   "execution_count": 35,
   "id": "0877c179",
   "metadata": {},
   "outputs": [],
   "source": [
    "resnet_model.save('resnet50SVMsigmoid.h5')"
   ]
  },
  {
   "cell_type": "code",
   "execution_count": 36,
   "id": "766f3ffb",
   "metadata": {},
   "outputs": [
    {
     "data": {
      "image/png": "[encoded data removed]",
      "text/plain": [
       "<Figure size 432x288 with 1 Axes>"
      ]
     },
     "metadata": {
      "needs_background": "light"
     },
     "output_type": "display_data"
    }
   ],
   "source": [
    "fig1 = plt.gcf()\n",
    "plt.plot(history.history['accuracy'])\n",
    "plt.plot(history.history['val_accuracy'])\n",
    "plt.axis(ymin=0.4,ymax=1)\n",
    "plt.grid()\n",
    "plt.title('Model Accuracy')\n",
    "plt.ylabel('Accuracy')\n",
    "plt.xlabel('Epochs')\n",
    "plt.legend(['train', 'validation'])\n",
    "plt.show()"
   ]
  },
  {
   "cell_type": "code",
   "execution_count": 37,
   "id": "c7a87106",
   "metadata": {},
   "outputs": [
    {
     "data": {
      "image/png": "[encoded data removed]",
      "text/plain": [
       "<Figure size 432x288 with 1 Axes>"
      ]
     },
     "metadata": {
      "needs_background": "light"
     },
     "output_type": "display_data"
    }
   ],
   "source": [
    "fig1 = plt.gcf()\n",
    "plt.plot(history.history['loss'])\n",
    "plt.plot(history.history['val_loss'])\n",
    "plt.axis(ymin=0,ymax=2)\n",
    "plt.grid()\n",
    "plt.title('Model loss')\n",
    "plt.ylabel('loss')\n",
    "plt.xlabel('Epochs')\n",
    "plt.legend(['train', 'validation'])\n",
    "plt.show()"
   ]
  },
  {
   "cell_type": "code",
   "execution_count": 9,
   "id": "e63f360a",
   "metadata": {},
   "outputs": [
    {
     "ename": "ModuleNotFoundError",
     "evalue": "No module named 'sklearn'",
     "output_type": "error",
     "traceback": [
      "\u001b[1;31m---------------------------------------------------------------------------\u001b[0m",
      "\u001b[1;31mModuleNotFoundError\u001b[0m                       Traceback (most recent call last)",
      "Input \u001b[1;32mIn [9]\u001b[0m, in \u001b[0;36m<cell line: 4>\u001b[1;34m()\u001b[0m\n\u001b[0;32m      2\u001b[0m pred\u001b[38;5;241m=\u001b[39m resnet_model\u001b[38;5;241m.\u001b[39mpredict(testingdt, batch_size\u001b[38;5;241m=\u001b[39m\u001b[38;5;241m32\u001b[39m)\n\u001b[0;32m      3\u001b[0m pred\u001b[38;5;241m=\u001b[39m np\u001b[38;5;241m.\u001b[39margmax(pred, axis\u001b[38;5;241m=\u001b[39m\u001b[38;5;241m-\u001b[39m\u001b[38;5;241m1\u001b[39m)\n\u001b[1;32m----> 4\u001b[0m \u001b[38;5;28;01mfrom\u001b[39;00m \u001b[38;5;21;01msklearn\u001b[39;00m\u001b[38;5;21;01m.\u001b[39;00m\u001b[38;5;21;01mmetrics\u001b[39;00m \u001b[38;5;28;01mimport\u001b[39;00m classification_report\n\u001b[0;32m      5\u001b[0m \u001b[38;5;28mprint\u001b[39m(classification_report(pred, y_actual, target_names\u001b[38;5;241m=\u001b[39m[\u001b[38;5;124m'\u001b[39m\u001b[38;5;124mfake(class0)\u001b[39m\u001b[38;5;124m'\u001b[39m, \u001b[38;5;124m'\u001b[39m\u001b[38;5;124mreal(class1)\u001b[39m\u001b[38;5;124m'\u001b[39m]))\n",
      "\u001b[1;31mModuleNotFoundError\u001b[0m: No module named 'sklearn'"
     ]
    }
   ],
   "source": [
    "y_actual= testingdt.labels\n",
    "pred= resnet_model.predict(testingdt, batch_size=32)\n",
    "pred= np.argmax(pred, axis=-1)\n",
    "from sklearn.metrics import classification_report\n",
    "print(classification_report(pred, y_actual, target_names=['fake(class0)', 'real(class1)']))"
   ]
  },
  {
   "cell_type": "code",
   "execution_count": 10,
   "id": "86d57df7",
   "metadata": {},
   "outputs": [
    {
     "name": "stdout",
     "output_type": "stream",
     "text": [
      "Collecting sklearn\n",
      "  Downloading sklearn-0.0.tar.gz (1.1 kB)\n",
      "Collecting scikit-learn\n",
      "  Downloading scikit_learn-1.1.1-cp39-cp39-win_amd64.whl (7.4 MB)\n",
      "Collecting joblib>=1.0.0\n",
      "  Using cached joblib-1.1.0-py2.py3-none-any.whl (306 kB)\n",
      "Collecting threadpoolctl>=2.0.0\n",
      "  Using cached threadpoolctl-3.1.0-py3-none-any.whl (14 kB)\n",
      "Requirement already satisfied: numpy>=1.17.3 in c:\\users\\viola\\anaconda3\\envs\\kerass\\lib\\site-packages (from scikit-learn->sklearn) (1.22.3)\n",
      "Requirement already satisfied: scipy>=1.3.2 in c:\\users\\viola\\anaconda3\\envs\\kerass\\lib\\site-packages (from scikit-learn->sklearn) (1.7.3)\n",
      "Building wheels for collected packages: sklearn\n",
      "  Building wheel for sklearn (setup.py): started\n",
      "  Building wheel for sklearn (setup.py): finished with status 'done'\n",
      "  Created wheel for sklearn: filename=sklearn-0.0-py2.py3-none-any.whl size=1315 sha256=deac0da7f2f38e2346905d21e4ad1985ea1392c383947c48937c555d85e9256f\n",
      "  Stored in directory: c:\\users\\viola\\appdata\\local\\pip\\cache\\wheels\\e4\\7b\\98\\b6466d71b8d738a0c547008b9eb39bf8676d1ff6ca4b22af1c\n",
      "Successfully built sklearn\n",
      "Installing collected packages: threadpoolctl, joblib, scikit-learn, sklearn\n",
      "Successfully installed joblib-1.1.0 scikit-learn-1.1.1 sklearn-0.0 threadpoolctl-3.1.0\n",
      "Note: you may need to restart the kernel to use updated packages.\n"
     ]
    }
   ],
   "source": [
    "pip install sklearn\n"
   ]
  },
  {
   "cell_type": "code",
   "execution_count": 13,
   "id": "6c6031d4",
   "metadata": {},
   "outputs": [
    {
     "name": "stdout",
     "output_type": "stream",
     "text": [
      "              precision    recall  f1-score   support\n",
      "\n",
      "fake(class0)       0.00      0.00      0.00         0\n",
      "real(class1)       1.00      0.50      0.67     20076\n",
      "\n",
      "    accuracy                           0.50     20076\n",
      "   macro avg       0.50      0.25      0.33     20076\n",
      "weighted avg       1.00      0.50      0.67     20076\n",
      "\n"
     ]
    },
    {
     "name": "stderr",
     "output_type": "stream",
     "text": [
      "C:\\Users\\viola\\anaconda3\\envs\\kerass\\lib\\site-packages\\sklearn\\metrics\\_classification.py:1327: UndefinedMetricWarning: Recall and F-score are ill-defined and being set to 0.0 in labels with no true samples. Use `zero_division` parameter to control this behavior.\n",
      "  _warn_prf(average, modifier, msg_start, len(result))\n",
      "C:\\Users\\viola\\anaconda3\\envs\\kerass\\lib\\site-packages\\sklearn\\metrics\\_classification.py:1327: UndefinedMetricWarning: Recall and F-score are ill-defined and being set to 0.0 in labels with no true samples. Use `zero_division` parameter to control this behavior.\n",
      "  _warn_prf(average, modifier, msg_start, len(result))\n",
      "C:\\Users\\viola\\anaconda3\\envs\\kerass\\lib\\site-packages\\sklearn\\metrics\\_classification.py:1327: UndefinedMetricWarning: Recall and F-score are ill-defined and being set to 0.0 in labels with no true samples. Use `zero_division` parameter to control this behavior.\n",
      "  _warn_prf(average, modifier, msg_start, len(result))\n"
     ]
    }
   ],
   "source": [
    "y_actual= testingdt.labels\n",
    "pred= resnet_model.predict(testingdt, batch_size=32)\n",
    "pred= np.argmax(pred, axis=-1)\n",
    "from sklearn.metrics import classification_report\n",
    "import warnings\n",
    "warnings.filterwarnings('always')\n",
    "print(classification_report(pred, y_actual, target_names=['fake(class0)', 'real(class1)']))"
   ]
  },
  {
   "cell_type": "code",
   "execution_count": 14,
   "id": "8f196795",
   "metadata": {},
   "outputs": [
    {
     "ename": "NameError",
     "evalue": "name 'model' is not defined",
     "output_type": "error",
     "traceback": [
      "\u001b[1;31m---------------------------------------------------------------------------\u001b[0m",
      "\u001b[1;31mNameError\u001b[0m                                 Traceback (most recent call last)",
      "Input \u001b[1;32mIn [14]\u001b[0m, in \u001b[0;36m<cell line: 5>\u001b[1;34m()\u001b[0m\n\u001b[0;32m      3\u001b[0m \u001b[38;5;28;01mfrom\u001b[39;00m \u001b[38;5;21;01msklearn\u001b[39;00m\u001b[38;5;21;01m.\u001b[39;00m\u001b[38;5;21;01mmetrics\u001b[39;00m \u001b[38;5;28;01mimport\u001b[39;00m confusion_matrix\n\u001b[0;32m      4\u001b[0m y_actual\u001b[38;5;241m=\u001b[39m testingdt\u001b[38;5;241m.\u001b[39mlabels\n\u001b[1;32m----> 5\u001b[0m pred\u001b[38;5;241m=\u001b[39m \u001b[43mmodel\u001b[49m\u001b[38;5;241m.\u001b[39mpredict(testingdt, batch_size\u001b[38;5;241m=\u001b[39m\u001b[38;5;241m32\u001b[39m)\n\u001b[0;32m      6\u001b[0m pred\u001b[38;5;241m=\u001b[39m np\u001b[38;5;241m.\u001b[39margmax(pred, axis\u001b[38;5;241m=\u001b[39m\u001b[38;5;241m-\u001b[39m\u001b[38;5;241m1\u001b[39m)\n\u001b[0;32m      7\u001b[0m cm\u001b[38;5;241m=\u001b[39mconfusion_matrix(y_actual,pred)\n",
      "\u001b[1;31mNameError\u001b[0m: name 'model' is not defined"
     ]
    }
   ],
   "source": [
    "from sklearn.metrics import confusion_matrix\n",
    "from sklearn.metrics import ConfusionMatrixDisplay\n",
    "from sklearn.metrics import confusion_matrix\n",
    "y_actual= testingdt.labels\n",
    "pred= model.predict(testingdt, batch_size=32)\n",
    "pred= np.argmax(pred, axis=-1)\n",
    "cm=confusion_matrix(y_actual,pred)\n",
    "print(cm)\n",
    "labels = [\"Fake\", \"real\"]\n",
    "disp = ConfusionMatrixDisplay(confusion_matrix=cm, display_labels=labels)\n",
    "disp.plot(cmap=plt.cm.Blues)\n",
    "plt.show()"
   ]
  },
  {
   "cell_type": "code",
   "execution_count": null,
   "id": "817c92a5",
   "metadata": {},
   "outputs": [],
   "source": []
  }
 ],
 "metadata": {
  "kernelspec": {
   "display_name": "Python 3 (ipykernel)",
   "language": "python",
   "name": "python3"
  },
  "language_info": {
   "codemirror_mode": {
    "name": "ipython",
    "version": 3
   },
   "file_extension": ".py",
   "mimetype": "text/x-python",
   "name": "python",
   "nbconvert_exporter": "python",
   "pygments_lexer": "ipython3",
   "version": "3.9.12"
  }
 },
 "nbformat": 4,
 "nbformat_minor": 5
}
