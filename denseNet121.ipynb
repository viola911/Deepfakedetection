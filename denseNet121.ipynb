{
 "cells": [
  {
   "cell_type": "code",
   "execution_count": 3,
   "id": "429e7796",
   "metadata": {},
   "outputs": [],
   "source": [
    "import matplotlib.pyplot as plt\n",
    "import numpy as np\n",
    "import os\n",
    "import PIL\n",
    "import tensorflow as tf\n",
    "from tensorflow import keras\n",
    "from tensorflow.keras import layers\n",
    "from tensorflow.keras.layers import Dense, Flatten, Dropout\n",
    "from tensorflow.keras.models import Sequential\n",
    "from tensorflow.keras.optimizers import Adam\n",
    "from keras.preprocessing.image import ImageDataGenerator"
   ]
  },
  {
   "cell_type": "code",
   "execution_count": 4,
   "id": "d151361c",
   "metadata": {},
   "outputs": [
    {
     "name": "stdout",
     "output_type": "stream",
     "text": [
      "Found 101965 images belonging to 2 classes.\n"
     ]
    }
   ],
   "source": [
    "trainData = ImageDataGenerator()\n",
    "trainingdt = trainData.flow_from_directory(directory='RealvsFake/Training', target_size=(96,96))\n"
   ]
  },
  {
   "cell_type": "code",
   "execution_count": 5,
   "id": "8f24b451",
   "metadata": {},
   "outputs": [
    {
     "name": "stdout",
     "output_type": "stream",
     "text": [
      "Found 20076 images belonging to 2 classes.\n"
     ]
    }
   ],
   "source": [
    "testData = ImageDataGenerator()\n",
    "testingdt = testData.flow_from_directory(directory='RealvsFake/Testing', target_size=(96,96))"
   ]
  },
  {
   "cell_type": "code",
   "execution_count": 6,
   "id": "87340a10",
   "metadata": {},
   "outputs": [],
   "source": [
    "def preprocess(file_path):\n",
    "        byte_img = tf.io.read_file(file_path)\n",
    "        img = tf.io.decode_jpeg(byte_img)\n",
    "        img = tf.image.resize(img, (96,96))\n",
    "        img = img / 255.0\n",
    "        return img"
   ]
  },
  {
   "cell_type": "code",
   "execution_count": 7,
   "id": "7ceed44c",
   "metadata": {},
   "outputs": [],
   "source": [
    "model = Sequential()\n",
    "\n",
    "pretrained_model= tf.keras.applications.DenseNet121(include_top=False,\n",
    "                   input_shape= (96,96,3),\n",
    "                   pooling='max',classes=2,\n",
    "                   weights='imagenet')\n",
    "\n",
    "model.add(pretrained_model)"
   ]
  },
  {
   "cell_type": "code",
   "execution_count": 8,
   "id": "fb004553",
   "metadata": {},
   "outputs": [],
   "source": [
    "\n",
    "model.add(Flatten())\n",
    "model.add(Dense(256, activation='relu'))\n",
    "\n",
    "model.add(Dense(128, activation='relu'))\n",
    "\n",
    "model.add(Dense(64, activation='relu'))\n",
    "\n",
    "model.add(Dense(2, activation='softmax'))"
   ]
  },
  {
   "cell_type": "code",
   "execution_count": 9,
   "id": "13f0efb9",
   "metadata": {},
   "outputs": [
    {
     "name": "stdout",
     "output_type": "stream",
     "text": [
      "Model: \"sequential\"\n",
      "_________________________________________________________________\n",
      " Layer (type)                Output Shape              Param #   \n",
      "=================================================================\n",
      " densenet121 (Functional)    (None, 1024)              7037504   \n",
      "                                                                 \n",
      " flatten (Flatten)           (None, 1024)              0         \n",
      "                                                                 \n",
      " dense (Dense)               (None, 256)               262400    \n",
      "                                                                 \n",
      " dense_1 (Dense)             (None, 128)               32896     \n",
      "                                                                 \n",
      " dense_2 (Dense)             (None, 64)                8256      \n",
      "                                                                 \n",
      " dense_3 (Dense)             (None, 2)                 130       \n",
      "                                                                 \n",
      "=================================================================\n",
      "Total params: 7,341,186\n",
      "Trainable params: 7,257,538\n",
      "Non-trainable params: 83,648\n",
      "_________________________________________________________________\n"
     ]
    }
   ],
   "source": [
    "model.summary()\n"
   ]
  },
  {
   "cell_type": "code",
   "execution_count": 11,
   "id": "ff222a96",
   "metadata": {},
   "outputs": [
    {
     "name": "stdout",
     "output_type": "stream",
     "text": [
      "Epoch 1/10\n",
      "100/100 [==============================] - 811s 8s/step - loss: 0.2614 - acc: 0.9038 - val_loss: 0.5380 - val_acc: 0.8565\n",
      "Epoch 2/10\n",
      "100/100 [==============================] - 774s 8s/step - loss: 0.2511 - acc: 0.9038 - val_loss: 0.5194 - val_acc: 0.8021\n",
      "Epoch 3/10\n",
      "100/100 [==============================] - 773s 8s/step - loss: 0.2378 - acc: 0.9100 - val_loss: 0.2191 - val_acc: 0.9103\n",
      "Epoch 4/10\n",
      "100/100 [==============================] - 775s 8s/step - loss: 0.2009 - acc: 0.9172 - val_loss: 0.8427 - val_acc: 0.7791\n",
      "Epoch 5/10\n",
      "100/100 [==============================] - 771s 8s/step - loss: 0.2102 - acc: 0.9147 - val_loss: 0.2514 - val_acc: 0.9117\n",
      "Epoch 6/10\n",
      "100/100 [==============================] - 768s 8s/step - loss: 0.1799 - acc: 0.9266 - val_loss: 0.1824 - val_acc: 0.9305\n",
      "Epoch 7/10\n",
      "100/100 [==============================] - 764s 8s/step - loss: 0.1794 - acc: 0.9322 - val_loss: 0.1919 - val_acc: 0.9269\n",
      "Epoch 8/10\n",
      "100/100 [==============================] - 752s 8s/step - loss: 0.1585 - acc: 0.9325 - val_loss: 0.2095 - val_acc: 0.9163\n",
      "Epoch 9/10\n",
      "100/100 [==============================] - 750s 8s/step - loss: 0.1577 - acc: 0.9394 - val_loss: 0.2383 - val_acc: 0.9062\n",
      "Epoch 10/10\n",
      "100/100 [==============================] - 752s 8s/step - loss: 0.1666 - acc: 0.9309 - val_loss: 0.3075 - val_acc: 0.8816\n"
     ]
    }
   ],
   "source": [
    "\n",
    "model.compile(optimizer=Adam(lr=3e-4),loss='binary_crossentropy',metrics=['acc'])\n",
    "history = model.fit(trainingdt,validation_data= testingdt,epochs=10,steps_per_epoch=100) "
   ]
  },
  {
   "cell_type": "code",
   "execution_count": 12,
   "id": "83027703",
   "metadata": {},
   "outputs": [],
   "source": [
    "model.save('densenet121.h5')"
   ]
  },
  {
   "cell_type": "code",
   "execution_count": 15,
   "id": "1d8c12cd",
   "metadata": {},
   "outputs": [
    {
     "data": {
      "image/png": "[encoded data removed]",
      "text/plain": [
       "<Figure size 432x288 with 1 Axes>"
      ]
     },
     "metadata": {
      "needs_background": "light"
     },
     "output_type": "display_data"
    }
   ],
   "source": [
    "fig1 = plt.gcf()\n",
    "plt.plot(history.history['val_acc'])\n",
    "plt.plot(history.history['acc'])\n",
    "\n",
    "plt.axis(ymin=0,ymax=1)\n",
    "plt.grid()\n",
    "plt.title('Model Accuracy')\n",
    "plt.ylabel('Accuracy')\n",
    "plt.xlabel('Epochs')\n",
    "plt.legend(['train', 'validation'])\n",
    "plt.show()"
   ]
  },
  {
   "cell_type": "code",
   "execution_count": 16,
   "id": "b41ed139",
   "metadata": {},
   "outputs": [
    {
     "data": {
      "image/png": "[encoded data removed]",
      "text/plain": [
       "<Figure size 432x288 with 1 Axes>"
      ]
     },
     "metadata": {
      "needs_background": "light"
     },
     "output_type": "display_data"
    }
   ],
   "source": [
    "fig1 = plt.gcf()\n",
    "plt.plot(history.history['val_loss'])\n",
    "plt.plot(history.history['loss'])\n",
    "\n",
    "plt.axis(ymin=0,ymax=1)\n",
    "plt.grid()\n",
    "plt.title('Model Loss')\n",
    "plt.ylabel('loss')\n",
    "plt.xlabel('Epochs')\n",
    "plt.legend(['train', 'validation'])\n",
    "plt.show()"
   ]
  },
  {
   "cell_type": "code",
   "execution_count": null,
   "id": "552ebcd9",
   "metadata": {},
   "outputs": [],
   "source": [
    "# reload model\n",
    "model = tf.keras.models.load_model('densenet121.h5')"
   ]
  },
  {
   "cell_type": "code",
   "execution_count": null,
   "id": "7c5c50f6",
   "metadata": {},
   "outputs": [],
   "source": [
    "\n",
    "        \n",
    "      \n",
    "\n",
    "            "
   ]
  },
  {
   "cell_type": "code",
   "execution_count": null,
   "id": "733e2823",
   "metadata": {},
   "outputs": [],
   "source": [
    "# reload model\n",
    "\n",
    "model = tf.keras.models.load_model('densenet121.h5' ,\n",
    "                                  custom_objects={'BinaryCrossentropy' :tf.losses.BinaryCrossentropy})"
   ]
  },
  {
   "cell_type": "code",
   "execution_count": null,
   "id": "f8ab28cc",
   "metadata": {},
   "outputs": [],
   "source": [
    "for im in os.listdir(os.path.join('application data', 'input data')):\n",
    "    results= verify(model)\n",
    "    print(results)"
   ]
  },
  {
   "cell_type": "code",
   "execution_count": null,
   "id": "ad626fb9",
   "metadata": {},
   "outputs": [],
   "source": []
  }
 ],
 "metadata": {
  "kernelspec": {
   "display_name": "Python 3 (ipykernel)",
   "language": "python",
   "name": "python3"
  },
  "language_info": {
   "codemirror_mode": {
    "name": "ipython",
    "version": 3
   },
   "file_extension": ".py",
   "mimetype": "text/x-python",
   "name": "python",
   "nbconvert_exporter": "python",
   "pygments_lexer": "ipython3",
   "version": "3.7.9"
  }
 },
 "nbformat": 4,
 "nbformat_minor": 5
}
