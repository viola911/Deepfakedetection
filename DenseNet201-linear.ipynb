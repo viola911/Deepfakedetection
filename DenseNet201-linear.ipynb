{
 "cells": [
  {
   "cell_type": "code",
   "execution_count": 1,
   "id": "4359090c",
   "metadata": {},
   "outputs": [],
   "source": [
    "from tensorflow.compat.v1 import ConfigProto\n",
    "from tensorflow.compat.v1 import InteractiveSession\n",
    "\n",
    "config = ConfigProto()\n",
    "config.gpu_options.per_process_gpu_memory_fraction = 0.5\n",
    "config.gpu_options.allow_growth = True\n",
    "session = InteractiveSession(config=config)"
   ]
  },
  {
   "cell_type": "code",
   "execution_count": 2,
   "id": "b36ff40a",
   "metadata": {},
   "outputs": [],
   "source": [
    "import matplotlib.pyplot as plt\n",
    "import numpy as np\n",
    "import os\n",
    "import PIL\n",
    "import tensorflow as tf\n",
    "from tensorflow import keras\n",
    "from tensorflow.keras import layers\n",
    "from tensorflow.keras.layers import Dense, Flatten, Dropout\n",
    "from tensorflow.keras.models import Sequential\n",
    "from tensorflow.keras.optimizers import Adam\n",
    "from keras.preprocessing.image import ImageDataGenerator"
   ]
  },
  {
   "cell_type": "code",
   "execution_count": 3,
   "id": "c90f90bb",
   "metadata": {},
   "outputs": [
    {
     "name": "stdout",
     "output_type": "stream",
     "text": [
      "Found 101965 images belonging to 2 classes.\n"
     ]
    }
   ],
   "source": [
    "trainData = ImageDataGenerator()\n",
    "trainingdt = trainData.flow_from_directory(directory='RealvsFake/Training', target_size=(96,96))"
   ]
  },
  {
   "cell_type": "code",
   "execution_count": 4,
   "id": "793c7f6b",
   "metadata": {},
   "outputs": [
    {
     "name": "stdout",
     "output_type": "stream",
     "text": [
      "Found 20076 images belonging to 2 classes.\n"
     ]
    }
   ],
   "source": [
    "testData = ImageDataGenerator()\n",
    "testingdt = testData.flow_from_directory(directory='RealvsFake/Testing', target_size=(96,96))"
   ]
  },
  {
   "cell_type": "code",
   "execution_count": 5,
   "id": "90a26467",
   "metadata": {},
   "outputs": [],
   "source": [
    "def preprocess(file_path):\n",
    "        byte_img = tf.io.read_file(file_path)\n",
    "        img = tf.io.decode_jpeg(byte_img)\n",
    "        img = tf.image.resize(img, (96,96))\n",
    "        img = img / 255.0\n",
    "        return img"
   ]
  },
  {
   "cell_type": "code",
   "execution_count": 6,
   "id": "0e44e580",
   "metadata": {},
   "outputs": [],
   "source": [
    "model = Sequential()\n",
    "\n",
    "pretrained_model= tf.keras.applications.DenseNet201(include_top=False,\n",
    "                   input_shape= (96,96,3),\n",
    "                   pooling='max',classes=2,\n",
    "                   weights='imagenet')\n",
    "\n",
    "model.add(pretrained_model)"
   ]
  },
  {
   "cell_type": "code",
   "execution_count": 7,
   "id": "a37d5d50",
   "metadata": {},
   "outputs": [],
   "source": [
    "\n",
    "model.add(Dense(256, activation='relu'))\n",
    "model.add(Dense(128, activation='relu'))\n",
    "model.add(Dense(64, activation='relu'))\n",
    "\n",
    "model.add(Dense(2, kernel_regularizer=tf.keras.regularizers.l2(0.01),activation\n",
    "             ='linear'))"
   ]
  },
  {
   "cell_type": "code",
   "execution_count": 8,
   "id": "4949c50f",
   "metadata": {},
   "outputs": [
    {
     "name": "stdout",
     "output_type": "stream",
     "text": [
      "Model: \"sequential\"\n",
      "_________________________________________________________________\n",
      " Layer (type)                Output Shape              Param #   \n",
      "=================================================================\n",
      " densenet201 (Functional)    (None, 1920)              18321984  \n",
      "                                                                 \n",
      " dense (Dense)               (None, 256)               491776    \n",
      "                                                                 \n",
      " dense_1 (Dense)             (None, 128)               32896     \n",
      "                                                                 \n",
      " dense_2 (Dense)             (None, 64)                8256      \n",
      "                                                                 \n",
      " dense_3 (Dense)             (None, 2)                 130       \n",
      "                                                                 \n",
      "=================================================================\n",
      "Total params: 18,855,042\n",
      "Trainable params: 18,625,986\n",
      "Non-trainable params: 229,056\n",
      "_________________________________________________________________\n"
     ]
    }
   ],
   "source": [
    "model.summary()\n"
   ]
  },
  {
   "cell_type": "code",
   "execution_count": 9,
   "id": "3f1f4f0d",
   "metadata": {},
   "outputs": [
    {
     "name": "stderr",
     "output_type": "stream",
     "text": [
      "C:\\Users\\viola\\anaconda3\\envs\\keras_env\\lib\\site-packages\\keras\\optimizer_v2\\adam.py:105: UserWarning: The `lr` argument is deprecated, use `learning_rate` instead.\n",
      "  super(Adam, self).__init__(name, **kwargs)\n"
     ]
    },
    {
     "name": "stdout",
     "output_type": "stream",
     "text": [
      "Epoch 1/10\n",
      "100/100 [==============================] - 3021s 29s/step - loss: 0.7047 - acc: 0.7184 - val_loss: 1.3943 - val_acc: 0.5446\n",
      "Epoch 2/10\n",
      "100/100 [==============================] - 2620s 26s/step - loss: 0.5617 - acc: 0.7691 - val_loss: 0.8260 - val_acc: 0.6584\n",
      "Epoch 3/10\n",
      "100/100 [==============================] - 1583s 16s/step - loss: 0.4814 - acc: 0.7991 - val_loss: 0.5809 - val_acc: 0.7462\n",
      "Epoch 4/10\n",
      "100/100 [==============================] - 1194s 12s/step - loss: 0.4615 - acc: 0.8006 - val_loss: 0.8588 - val_acc: 0.6460\n",
      "Epoch 5/10\n",
      "100/100 [==============================] - 1196s 12s/step - loss: 0.4557 - acc: 0.8012 - val_loss: 0.6960 - val_acc: 0.6813\n",
      "Epoch 6/10\n",
      "100/100 [==============================] - 1196s 12s/step - loss: 0.4502 - acc: 0.8028 - val_loss: 0.7189 - val_acc: 0.7274\n",
      "Epoch 7/10\n",
      "100/100 [==============================] - 1196s 12s/step - loss: 0.4439 - acc: 0.8009 - val_loss: 0.4768 - val_acc: 0.7918\n",
      "Epoch 8/10\n",
      "100/100 [==============================] - 1202s 12s/step - loss: 0.3735 - acc: 0.8338 - val_loss: 0.4649 - val_acc: 0.8021\n",
      "Epoch 9/10\n",
      "100/100 [==============================] - 1201s 12s/step - loss: 0.3873 - acc: 0.8278 - val_loss: 0.4435 - val_acc: 0.7987\n",
      "Epoch 10/10\n",
      "100/100 [==============================] - 1193s 12s/step - loss: 0.3912 - acc: 0.8240 - val_loss: 0.7287 - val_acc: 0.6387\n"
     ]
    }
   ],
   "source": [
    "\n",
    "model.compile(optimizer=Adam(lr=3e-4),loss = 'hinge',metrics=['acc'])\n",
    "history = model.fit(trainingdt,validation_data= testingdt,epochs=10,steps_per_epoch=100) "
   ]
  },
  {
   "cell_type": "code",
   "execution_count": 10,
   "id": "f45b480b",
   "metadata": {},
   "outputs": [],
   "source": [
    "model.save('densenet201linear.h5')"
   ]
  },
  {
   "cell_type": "code",
   "execution_count": 11,
   "id": "b4025bd1",
   "metadata": {},
   "outputs": [
    {
     "data": {
      "image/png": "[encoded data removed]",
      "text/plain": [
       "<Figure size 432x288 with 1 Axes>"
      ]
     },
     "metadata": {
      "needs_background": "light"
     },
     "output_type": "display_data"
    }
   ],
   "source": [
    "fig1 = plt.gcf()\n",
    "plt.plot(history.history['val_acc'])\n",
    "plt.plot(history.history['acc'])\n",
    "\n",
    "plt.axis(ymin=0.04,ymax=1)\n",
    "plt.grid()\n",
    "plt.title('Model Accuracy')\n",
    "plt.ylabel('Accuracy')\n",
    "plt.xlabel('Epochs')\n",
    "plt.legend(['train', 'validation'])\n",
    "plt.show()"
   ]
  },
  {
   "cell_type": "code",
   "execution_count": 15,
   "id": "3659d116",
   "metadata": {},
   "outputs": [
    {
     "data": {
      "image/png": "[encoded data removed]",
      "text/plain": [
       "<Figure size 432x288 with 1 Axes>"
      ]
     },
     "metadata": {
      "needs_background": "light"
     },
     "output_type": "display_data"
    }
   ],
   "source": [
    "fig1 = plt.gcf()\n",
    "plt.plot(history.history['val_loss'])\n",
    "plt.plot(history.history['loss'])\n",
    "\n",
    "plt.axis(ymin=0,ymax=1)\n",
    "plt.grid()\n",
    "plt.title('Model loss')\n",
    "plt.ylabel('loss')\n",
    "plt.xlabel('Epochs')\n",
    "plt.legend(['train', 'validation'])\n",
    "plt.show()"
   ]
  }
 ],
 "metadata": {
  "kernelspec": {
   "display_name": "Python 3 (ipykernel)",
   "language": "python",
   "name": "python3"
  },
  "language_info": {
   "codemirror_mode": {
    "name": "ipython",
    "version": 3
   },
   "file_extension": ".py",
   "mimetype": "text/x-python",
   "name": "python",
   "nbconvert_exporter": "python",
   "pygments_lexer": "ipython3",
   "version": "3.7.9"
  }
 },
 "nbformat": 4,
 "nbformat_minor": 5
}
