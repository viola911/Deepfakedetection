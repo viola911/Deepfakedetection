{
 "cells": [
  {
   "cell_type": "code",
   "execution_count": 1,
   "id": "5af0b8c1",
   "metadata": {},
   "outputs": [],
   "source": [
    "from tensorflow.compat.v1 import ConfigProto\n",
    "from tensorflow.compat.v1 import InteractiveSession\n",
    "\n",
    "config = ConfigProto()\n",
    "config.gpu_options.per_process_gpu_memory_fraction = 0.5\n",
    "config.gpu_options.allow_growth = True\n",
    "session = InteractiveSession(config=config)"
   ]
  },
  {
   "cell_type": "code",
   "execution_count": 5,
   "id": "167a8788",
   "metadata": {},
   "outputs": [],
   "source": [
    "import matplotlib.pyplot as plt\n",
    "import numpy as np\n",
    "import os\n",
    "import PIL\n",
    "import tensorflow as tf\n",
    "from tensorflow import keras\n",
    "from tensorflow.keras import layers\n",
    "from tensorflow.keras.layers import Dense, Flatten\n",
    "from tensorflow.keras.models import Sequential\n",
    "from tensorflow.keras.optimizers import Adam\n",
    "from keras.preprocessing.image import ImageDataGenerator\n"
   ]
  },
  {
   "cell_type": "code",
   "execution_count": 6,
   "id": "6ac9f328",
   "metadata": {},
   "outputs": [
    {
     "name": "stdout",
     "output_type": "stream",
     "text": [
      "Found 101965 images belonging to 2 classes.\n"
     ]
    }
   ],
   "source": [
    "trainData = ImageDataGenerator()\n",
    "trainingdt = trainData.flow_from_directory(directory='RealvsFake/Training', target_size=(224,224))\n"
   ]
  },
  {
   "cell_type": "code",
   "execution_count": 7,
   "id": "d1578fda",
   "metadata": {},
   "outputs": [
    {
     "name": "stdout",
     "output_type": "stream",
     "text": [
      "Found 20076 images belonging to 2 classes.\n"
     ]
    }
   ],
   "source": [
    "testData = ImageDataGenerator()\n",
    "testingdt = testData.flow_from_directory(directory='RealvsFake/Testing', target_size=(224,224))\n"
   ]
  },
  {
   "cell_type": "code",
   "execution_count": 8,
   "id": "d070faee",
   "metadata": {},
   "outputs": [],
   "source": [
    "def preprocess(file_path):\n",
    "        byte_img = tf.io.read_file(file_path)\n",
    "        img = tf.io.decode_jpeg(byte_img)\n",
    "        img = tf.image.resize(img, (224,224))\n",
    "        img = img / 255.0\n",
    "        return img"
   ]
  },
  {
   "cell_type": "code",
   "execution_count": 9,
   "id": "0a6f3e0a",
   "metadata": {},
   "outputs": [],
   "source": [
    "resnet_model = Sequential()\n",
    "\n",
    "pretrained_model= tf.keras.applications.ResNet50(include_top=False,\n",
    "                   input_shape=(224,224,3),\n",
    "                   pooling='max',classes=2,\n",
    "                   weights='imagenet')\n",
    "for layer in pretrained_model.layers:\n",
    "        layer.trainable=False\n",
    "\n",
    "resnet_model.add(pretrained_model)"
   ]
  },
  {
   "cell_type": "code",
   "execution_count": 10,
   "id": "af94bbce",
   "metadata": {},
   "outputs": [],
   "source": [
    "resnet_model.add(Flatten())\n",
    "resnet_model.add(Dense(512, activation='relu'))\n",
    "resnet_model.add(Dense(512, activation='relu'))\n",
    "resnet_model.add(Dense(2, kernel_regularizer=tf.keras.regularizers.l2(0.01),activation\n",
    "             ='elu'))"
   ]
  },
  {
   "cell_type": "code",
   "execution_count": 11,
   "id": "735a8c1c",
   "metadata": {},
   "outputs": [
    {
     "name": "stdout",
     "output_type": "stream",
     "text": [
      "Model: \"sequential\"\n",
      "_________________________________________________________________\n",
      " Layer (type)                Output Shape              Param #   \n",
      "=================================================================\n",
      " resnet50 (Functional)       (None, 2048)              23587712  \n",
      "                                                                 \n",
      " flatten (Flatten)           (None, 2048)              0         \n",
      "                                                                 \n",
      " dense (Dense)               (None, 512)               1049088   \n",
      "                                                                 \n",
      " dense_1 (Dense)             (None, 512)               262656    \n",
      "                                                                 \n",
      " dense_2 (Dense)             (None, 2)                 1026      \n",
      "                                                                 \n",
      "=================================================================\n",
      "Total params: 24,900,482\n",
      "Trainable params: 1,312,770\n",
      "Non-trainable params: 23,587,712\n",
      "_________________________________________________________________\n"
     ]
    }
   ],
   "source": [
    "resnet_model.summary()"
   ]
  },
  {
   "cell_type": "code",
   "execution_count": 9,
   "id": "0214ac9d",
   "metadata": {},
   "outputs": [
    {
     "name": "stderr",
     "output_type": "stream",
     "text": [
      "C:\\Users\\viola\\anaconda3\\envs\\keras_env\\lib\\site-packages\\keras\\optimizer_v2\\adam.py:105: UserWarning: The `lr` argument is deprecated, use `learning_rate` instead.\n",
      "  super(Adam, self).__init__(name, **kwargs)\n"
     ]
    },
    {
     "name": "stdout",
     "output_type": "stream",
     "text": [
      "Epoch 1/10\n",
      "100/100 [==============================] - 349s 3s/step - loss: 1.0624 - accuracy: 0.4950 - val_loss: 1.0323 - val_accuracy: 0.4875\n",
      "Epoch 2/10\n",
      "100/100 [==============================] - 373s 4s/step - loss: 1.0300 - accuracy: 0.4997 - val_loss: 1.0279 - val_accuracy: 0.5437\n",
      "Epoch 3/10\n",
      "100/100 [==============================] - 377s 4s/step - loss: 1.0263 - accuracy: 0.5066 - val_loss: 1.0248 - val_accuracy: 0.4906\n",
      "Epoch 4/10\n",
      "100/100 [==============================] - 377s 4s/step - loss: 1.0236 - accuracy: 0.4988 - val_loss: 1.0224 - val_accuracy: 0.4906\n",
      "Epoch 5/10\n",
      "100/100 [==============================] - 378s 4s/step - loss: 1.0213 - accuracy: 0.5066 - val_loss: 1.0203 - val_accuracy: 0.4656\n",
      "Epoch 6/10\n",
      "100/100 [==============================] - 378s 4s/step - loss: 1.0194 - accuracy: 0.5094 - val_loss: 1.0185 - val_accuracy: 0.5031\n",
      "Epoch 7/10\n",
      "100/100 [==============================] - 356s 4s/step - loss: 1.0177 - accuracy: 0.4956 - val_loss: 1.0169 - val_accuracy: 0.5063\n",
      "Epoch 8/10\n",
      "100/100 [==============================] - 353s 4s/step - loss: 1.0162 - accuracy: 0.4956 - val_loss: 1.0155 - val_accuracy: 0.4938\n",
      "Epoch 9/10\n",
      "100/100 [==============================] - 370s 4s/step - loss: 1.0148 - accuracy: 0.4967 - val_loss: 1.0141 - val_accuracy: 0.5063\n",
      "Epoch 10/10\n",
      "100/100 [==============================] - 342s 3s/step - loss: 1.0135 - accuracy: 0.4925 - val_loss: 1.0129 - val_accuracy: 0.5156\n"
     ]
    }
   ],
   "source": [
    "resnet_model.compile(optimizer=Adam(lr=3e-4),loss='hinge',metrics=['accuracy'])\n",
    "\n",
    "history = resnet_model.fit(trainingdt, validation_data=testingdt, epochs=10, steps_per_epoch=100, validation_steps=10)"
   ]
  },
  {
   "cell_type": "code",
   "execution_count": 10,
   "id": "0877c179",
   "metadata": {},
   "outputs": [],
   "source": [
    "resnet_model.save('resnet50SVMelu.h5')"
   ]
  },
  {
   "cell_type": "code",
   "execution_count": 11,
   "id": "766f3ffb",
   "metadata": {},
   "outputs": [
    {
     "data": {
      "image/png": "[encoded data removed]",
      "text/plain": [
       "<Figure size 432x288 with 1 Axes>"
      ]
     },
     "metadata": {
      "needs_background": "light"
     },
     "output_type": "display_data"
    }
   ],
   "source": [
    "fig1 = plt.gcf()\n",
    "plt.plot(history.history['accuracy'])\n",
    "plt.plot(history.history['val_accuracy'])\n",
    "plt.axis(ymin=0.4,ymax=1)\n",
    "plt.grid()\n",
    "plt.title('Model Accuracy')\n",
    "plt.ylabel('Accuracy')\n",
    "plt.xlabel('Epochs')\n",
    "plt.legend(['train', 'validation'])\n",
    "plt.show()"
   ]
  },
  {
   "cell_type": "code",
   "execution_count": 15,
   "id": "c7a87106",
   "metadata": {},
   "outputs": [
    {
     "data": {
      "image/png": "[encoded data removed]",
      "text/plain": [
       "<Figure size 432x288 with 1 Axes>"
      ]
     },
     "metadata": {
      "needs_background": "light"
     },
     "output_type": "display_data"
    }
   ],
   "source": [
    "fig1 = plt.gcf()\n",
    "plt.plot(history.history['loss'])\n",
    "plt.plot(history.history['val_loss'])\n",
    "plt.axis(ymin=0,ymax=2)\n",
    "plt.grid()\n",
    "plt.title('Model loss')\n",
    "plt.ylabel('loss')\n",
    "plt.xlabel('Epochs')\n",
    "plt.legend(['train', 'validation'])\n",
    "plt.show()"
   ]
  },
  {
   "cell_type": "code",
   "execution_count": 16,
   "id": "159c01a5",
   "metadata": {},
   "outputs": [
    {
     "name": "stdout",
     "output_type": "stream",
     "text": [
      "              precision    recall  f1-score   support\n",
      "\n",
      "fake(class0)       0.15      0.50      0.24      3094\n",
      "real(class1)       0.85      0.50      0.63     16982\n",
      "\n",
      "    accuracy                           0.50     20076\n",
      "   macro avg       0.50      0.50      0.43     20076\n",
      "weighted avg       0.74      0.50      0.57     20076\n",
      "\n"
     ]
    }
   ],
   "source": [
    "from keras.models import load_model\n",
    "y_actual= testingdt.labels\n",
    "resnet_model1= load_model(\"resnet50SVMelu.h5\")\n",
    "pred= resnet_model.predict(testingdt, batch_size=32)\n",
    "pred= np.argmax(pred, axis=-1)\n",
    "from sklearn.metrics import classification_report\n",
    "print(classification_report(pred, y_actual, target_names=['fake(class0)', 'real(class1)']))"
   ]
  },
  {
   "cell_type": "code",
   "execution_count": 17,
   "id": "ca2695da",
   "metadata": {},
   "outputs": [
    {
     "name": "stdout",
     "output_type": "stream",
     "text": [
      "              precision    recall  f1-score   support\n",
      "\n",
      "        fake       0.50      0.15      0.23     10030\n",
      "        real       0.50      0.85      0.63     10046\n",
      "\n",
      "    accuracy                           0.50     20076\n",
      "   macro avg       0.50      0.50      0.43     20076\n",
      "weighted avg       0.50      0.50      0.43     20076\n",
      "\n",
      "[[1538 8492]\n",
      " [1556 8490]]\n"
     ]
    }
   ],
   "source": [
    "from sklearn.metrics import classification_report\n",
    "from sklearn.metrics import confusion_matrix\n",
    "from sklearn.metrics import plot_confusion_matrix\n",
    "predictions = resnet_model.predict(testingdt)\n",
    "predictions = np.argmax(predictions, axis=1)\n",
    "true_classes = testingdt.labels\n",
    "report = classification_report(true_classes, predictions, target_names=['fake', 'real'])\n",
    "print(report)   \n",
    "cm=confusion_matrix(true_classes,predictions)\n",
    "print(cm)"
   ]
  },
  {
   "cell_type": "code",
   "execution_count": 19,
   "id": "86d57df7",
   "metadata": {},
   "outputs": [
    {
     "data": {
      "image/png": "[encoded data removed]",
      "text/plain": [
       "<Figure size 432x288 with 2 Axes>"
      ]
     },
     "metadata": {
      "needs_background": "light"
     },
     "output_type": "display_data"
    }
   ],
   "source": [
    "from sklearn.metrics import classification_report\n",
    "from sklearn.metrics import confusion_matrix\n",
    "from sklearn.metrics import plot_confusion_matrix\n",
    "from sklearn.metrics import confusion_matrix\n",
    "from sklearn.metrics import ConfusionMatrixDisplay\n",
    "from sklearn.metrics import confusion_matrix\n",
    "labels = [\"Fake\", \"real\"]\n",
    "disp = ConfusionMatrixDisplay(confusion_matrix=cm, display_labels=labels)\n",
    "disp.plot(cmap=plt.cm.Blues)\n",
    "plt.show()"
   ]
  },
  {
   "cell_type": "code",
   "execution_count": null,
   "id": "667f7691",
   "metadata": {},
   "outputs": [],
   "source": []
  }
 ],
 "metadata": {
  "kernelspec": {
   "display_name": "Python 3 (ipykernel)",
   "language": "python",
   "name": "python3"
  },
  "language_info": {
   "codemirror_mode": {
    "name": "ipython",
    "version": 3
   },
   "file_extension": ".py",
   "mimetype": "text/x-python",
   "name": "python",
   "nbconvert_exporter": "python",
   "pygments_lexer": "ipython3",
   "version": "3.7.9"
  }
 },
 "nbformat": 4,
 "nbformat_minor": 5
}
