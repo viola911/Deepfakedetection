{
 "cells": [
  {
   "cell_type": "code",
   "execution_count": 1,
   "id": "4359090c",
   "metadata": {},
   "outputs": [],
   "source": [
    "from tensorflow.compat.v1 import ConfigProto\n",
    "from tensorflow.compat.v1 import InteractiveSession\n",
    "\n",
    "config = ConfigProto()\n",
    "config.gpu_options.per_process_gpu_memory_fraction = 0.5\n",
    "config.gpu_options.allow_growth = True\n",
    "session = InteractiveSession(config=config)"
   ]
  },
  {
   "cell_type": "code",
   "execution_count": 2,
   "id": "b36ff40a",
   "metadata": {},
   "outputs": [],
   "source": [
    "import matplotlib.pyplot as plt\n",
    "import numpy as np\n",
    "import os\n",
    "import PIL\n",
    "import tensorflow as tf\n",
    "from tensorflow import keras\n",
    "from tensorflow.keras import layers\n",
    "from tensorflow.keras.layers import Dense, Flatten, Dropout\n",
    "from tensorflow.keras.models import Sequential\n",
    "from tensorflow.keras.optimizers import Adam\n",
    "from keras.preprocessing.image import ImageDataGenerator"
   ]
  },
  {
   "cell_type": "code",
   "execution_count": 3,
   "id": "c90f90bb",
   "metadata": {},
   "outputs": [
    {
     "name": "stdout",
     "output_type": "stream",
     "text": [
      "Found 101965 images belonging to 2 classes.\n"
     ]
    }
   ],
   "source": [
    "trainData = ImageDataGenerator()\n",
    "trainingdt = trainData.flow_from_directory(directory='RealvsFake/Training', target_size=(96,96))"
   ]
  },
  {
   "cell_type": "code",
   "execution_count": 4,
   "id": "793c7f6b",
   "metadata": {},
   "outputs": [
    {
     "name": "stdout",
     "output_type": "stream",
     "text": [
      "Found 20076 images belonging to 2 classes.\n"
     ]
    }
   ],
   "source": [
    "testData = ImageDataGenerator()\n",
    "testingdt = testData.flow_from_directory(directory='RealvsFake/Testing', target_size=(96,96))"
   ]
  },
  {
   "cell_type": "code",
   "execution_count": 5,
   "id": "90a26467",
   "metadata": {},
   "outputs": [],
   "source": [
    "def preprocess(file_path):\n",
    "        byte_img = tf.io.read_file(file_path)\n",
    "        img = tf.io.decode_jpeg(byte_img)\n",
    "        img = tf.image.resize(img, (96,96))\n",
    "        img = img / 255.0\n",
    "        return img"
   ]
  },
  {
   "cell_type": "code",
   "execution_count": 6,
   "id": "0e44e580",
   "metadata": {},
   "outputs": [],
   "source": [
    "model = Sequential()\n",
    "\n",
    "pretrained_model= tf.keras.applications.DenseNet201(include_top=False,\n",
    "                   input_shape= (96,96,3),\n",
    "                   pooling='max',classes=2,\n",
    "                   weights='imagenet')\n",
    "\n",
    "model.add(pretrained_model)"
   ]
  },
  {
   "cell_type": "code",
   "execution_count": 7,
   "id": "a37d5d50",
   "metadata": {},
   "outputs": [],
   "source": [
    "\n",
    "model.add(Dense(256, activation='relu'))\n",
    "model.add(Dense(128, activation='relu'))\n",
    "model.add(Dense(64, activation='relu'))\n",
    "\n",
    "model.add(Dense(2, kernel_regularizer=tf.keras.regularizers.l2(0.01),activation\n",
    "             ='sigmoid'))"
   ]
  },
  {
   "cell_type": "code",
   "execution_count": 8,
   "id": "4949c50f",
   "metadata": {},
   "outputs": [
    {
     "name": "stdout",
     "output_type": "stream",
     "text": [
      "Model: \"sequential\"\n",
      "_________________________________________________________________\n",
      " Layer (type)                Output Shape              Param #   \n",
      "=================================================================\n",
      " densenet201 (Functional)    (None, 1920)              18321984  \n",
      "                                                                 \n",
      " dense (Dense)               (None, 256)               491776    \n",
      "                                                                 \n",
      " dense_1 (Dense)             (None, 128)               32896     \n",
      "                                                                 \n",
      " dense_2 (Dense)             (None, 64)                8256      \n",
      "                                                                 \n",
      " dense_3 (Dense)             (None, 2)                 130       \n",
      "                                                                 \n",
      "=================================================================\n",
      "Total params: 18,855,042\n",
      "Trainable params: 18,625,986\n",
      "Non-trainable params: 229,056\n",
      "_________________________________________________________________\n"
     ]
    }
   ],
   "source": [
    "model.summary()\n"
   ]
  },
  {
   "cell_type": "code",
   "execution_count": 9,
   "id": "3f1f4f0d",
   "metadata": {},
   "outputs": [
    {
     "name": "stderr",
     "output_type": "stream",
     "text": [
      "C:\\Users\\viola\\anaconda3\\envs\\keras_env\\lib\\site-packages\\keras\\optimizer_v2\\adam.py:105: UserWarning: The `lr` argument is deprecated, use `learning_rate` instead.\n",
      "  super(Adam, self).__init__(name, **kwargs)\n"
     ]
    },
    {
     "name": "stdout",
     "output_type": "stream",
     "text": [
      "Epoch 1/10\n",
      "100/100 [==============================] - 2446s 24s/step - loss: 0.8694 - acc: 0.6734 - val_loss: 1.0009 - val_acc: 0.5296\n",
      "Epoch 2/10\n",
      "100/100 [==============================] - 2339s 24s/step - loss: 0.8701 - acc: 0.6575 - val_loss: 0.9047 - val_acc: 0.6208\n",
      "Epoch 3/10\n",
      "100/100 [==============================] - 2506s 25s/step - loss: 0.9075 - acc: 0.6156 - val_loss: 0.9355 - val_acc: 0.5850\n",
      "Epoch 4/10\n",
      "100/100 [==============================] - 2212s 22s/step - loss: 0.9247 - acc: 0.5941 - val_loss: 0.9973 - val_acc: 0.5189\n",
      "Epoch 5/10\n",
      "100/100 [==============================] - 6966s 70s/step - loss: 0.8915 - acc: 0.6225 - val_loss: 1.0496 - val_acc: 0.4645\n",
      "Epoch 6/10\n",
      "100/100 [==============================] - 1280s 13s/step - loss: 0.8525 - acc: 0.6616 - val_loss: 0.8552 - val_acc: 0.6575\n",
      "Epoch 7/10\n",
      "100/100 [==============================] - 1254s 13s/step - loss: 0.8244 - acc: 0.6869 - val_loss: 0.9658 - val_acc: 0.5448\n",
      "Epoch 8/10\n",
      "100/100 [==============================] - 1241s 12s/step - loss: 0.8969 - acc: 0.6134 - val_loss: 0.9242 - val_acc: 0.5848\n",
      "Epoch 9/10\n",
      "100/100 [==============================] - 1237s 12s/step - loss: 0.8903 - acc: 0.6197 - val_loss: 0.9826 - val_acc: 0.5253\n",
      "Epoch 10/10\n",
      "100/100 [==============================] - 2198s 22s/step - loss: 0.9569 - acc: 0.5512 - val_loss: 1.0101 - val_acc: 0.4966\n"
     ]
    }
   ],
   "source": [
    "\n",
    "model.compile(optimizer=Adam(lr=3e-4),loss = 'hinge',metrics=['acc'])\n",
    "history = model.fit(trainingdt,validation_data= testingdt,epochs=10,steps_per_epoch=100) "
   ]
  },
  {
   "cell_type": "code",
   "execution_count": 10,
   "id": "f45b480b",
   "metadata": {},
   "outputs": [],
   "source": [
    "model.save('densenet201sigmoid.h5')"
   ]
  },
  {
   "cell_type": "code",
   "execution_count": 11,
   "id": "b4025bd1",
   "metadata": {},
   "outputs": [
    {
     "data": {
      "image/png": "[encoded data removed]",
      "text/plain": [
       "<Figure size 432x288 with 1 Axes>"
      ]
     },
     "metadata": {
      "needs_background": "light"
     },
     "output_type": "display_data"
    }
   ],
   "source": [
    "fig1 = plt.gcf()\n",
    "plt.plot(history.history['val_acc'])\n",
    "plt.plot(history.history['acc'])\n",
    "\n",
    "plt.axis(ymin=0.04,ymax=1)\n",
    "plt.grid()\n",
    "plt.title('Model Accuracy')\n",
    "plt.ylabel('Accuracy')\n",
    "plt.xlabel('Epochs')\n",
    "plt.legend(['train', 'validation'])\n",
    "plt.show()"
   ]
  },
  {
   "cell_type": "code",
   "execution_count": 13,
   "id": "3659d116",
   "metadata": {},
   "outputs": [
    {
     "data": {
      "image/png": "[encoded data removed]",
      "text/plain": [
       "<Figure size 432x288 with 1 Axes>"
      ]
     },
     "metadata": {
      "needs_background": "light"
     },
     "output_type": "display_data"
    }
   ],
   "source": [
    "fig1 = plt.gcf()\n",
    "plt.plot(history.history['val_loss'])\n",
    "plt.plot(history.history['loss'])\n",
    "plt.axis(ymin=0,ymax=2)\n",
    "plt.grid()\n",
    "plt.title('Model loss')\n",
    "plt.ylabel('loss')\n",
    "plt.xlabel('Epochs')\n",
    "plt.legend(['train', 'validation'])\n",
    "plt.show()"
   ]
  },
  {
   "cell_type": "code",
   "execution_count": 20,
   "id": "abcb090f",
   "metadata": {},
   "outputs": [
    {
     "name": "stdout",
     "output_type": "stream",
     "text": [
      "              precision    recall  f1-score   support\n",
      "\n",
      "fake(class0)       0.03      0.48      0.06       628\n",
      "real(class1)       0.97      0.50      0.66     19448\n",
      "\n",
      "    accuracy                           0.50     20076\n",
      "   macro avg       0.50      0.49      0.36     20076\n",
      "weighted avg       0.94      0.50      0.64     20076\n",
      "\n"
     ]
    }
   ],
   "source": [
    "y_actual= testingdt.labels\n",
    "pred= model.predict(testingdt, batch_size=32)\n",
    "pred= np.argmax(pred, axis=-1)\n",
    "from sklearn.metrics import classification_report\n",
    "print(classification_report(pred, y_actual, target_names=['fake(class0)', 'real(class1)']))"
   ]
  },
  {
   "cell_type": "code",
   "execution_count": 38,
   "id": "2ca85303",
   "metadata": {},
   "outputs": [
    {
     "name": "stdout",
     "output_type": "stream",
     "text": [
      "[[ 311 9719]\n",
      " [ 317 9729]]\n"
     ]
    },
    {
     "data": {
      "image/png": "[encoded data removed]",
      "text/plain": [
       "<Figure size 432x288 with 2 Axes>"
      ]
     },
     "metadata": {
      "needs_background": "light"
     },
     "output_type": "display_data"
    }
   ],
   "source": [
    "from sklearn.metrics import confusion_matrix\n",
    "from sklearn.metrics import ConfusionMatrixDisplay\n",
    "from sklearn.metrics import confusion_matrix\n",
    "y_actual= testingdt.labels\n",
    "pred= model.predict(testingdt, batch_size=32)\n",
    "pred= np.argmax(pred, axis=-1)\n",
    "cm=confusion_matrix(y_actual,pred)\n",
    "print(cm)\n",
    "labels = [\"Fake\", \"real\"]\n",
    "disp = ConfusionMatrixDisplay(confusion_matrix=cm, display_labels=labels)\n",
    "disp.plot(cmap=plt.cm.Blues)\n",
    "plt.show()"
   ]
  },
  {
   "cell_type": "code",
   "execution_count": 36,
   "id": "c321030f",
   "metadata": {},
   "outputs": [
    {
     "data": {
      "image/png": "[encoded data removed]",
      "text/plain": [
       "<Figure size 432x288 with 2 Axes>"
      ]
     },
     "metadata": {
      "needs_background": "light"
     },
     "output_type": "display_data"
    }
   ],
   "source": [
    "from sklearn.metrics import ConfusionMatrixDisplay\n",
    "from sklearn.metrics import confusion_matrix\n",
    "labels = [\"Fake\", \"real\"]\n",
    "disp = ConfusionMatrixDisplay(confusion_matrix=cm, display_labels=labels)\n",
    "disp.plot(cmap=plt.cm.Blues)\n",
    "plt.show()"
   ]
  },
  {
   "cell_type": "code",
   "execution_count": 16,
   "id": "c11d54b7",
   "metadata": {},
   "outputs": [
    {
     "name": "stdout",
     "output_type": "stream",
     "text": [
      "Found 20076 images belonging to 2 classes.\n"
     ]
    }
   ],
   "source": [
    "testData = ImageDataGenerator()\n",
    "testingdt = testData.flow_from_directory(directory='RealvsFake/Testing', target_size=(96,96))"
   ]
  },
  {
   "cell_type": "code",
   "execution_count": 19,
   "id": "2cf4b21f",
   "metadata": {},
   "outputs": [
    {
     "name": "stdout",
     "output_type": "stream",
     "text": [
      "[0 0 0 ... 1 1 1]\n"
     ]
    }
   ],
   "source": [
    "y_actual= testingdt.labels\n",
    "print(y_actual)"
   ]
  },
  {
   "cell_type": "code",
   "execution_count": null,
   "id": "d6c25cb1",
   "metadata": {},
   "outputs": [],
   "source": []
  }
 ],
 "metadata": {
  "kernelspec": {
   "display_name": "Python 3 (ipykernel)",
   "language": "python",
   "name": "python3"
  },
  "language_info": {
   "codemirror_mode": {
    "name": "ipython",
    "version": 3
   },
   "file_extension": ".py",
   "mimetype": "text/x-python",
   "name": "python",
   "nbconvert_exporter": "python",
   "pygments_lexer": "ipython3",
   "version": "3.9.12"
  }
 },
 "nbformat": 4,
 "nbformat_minor": 5
}
