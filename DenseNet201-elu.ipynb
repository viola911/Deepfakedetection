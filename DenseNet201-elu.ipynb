{
 "cells": [
  {
   "cell_type": "code",
   "execution_count": null,
   "id": "4359090c",
   "metadata": {},
   "outputs": [],
   "source": [
    "from tensorflow.compat.v1 import ConfigProto\n",
    "from tensorflow.compat.v1 import InteractiveSession\n",
    "\n",
    "config = ConfigProto()\n",
    "config.gpu_options.per_process_gpu_memory_fraction = 0.5\n",
    "config.gpu_options.allow_growth = True\n",
    "session = InteractiveSession(config=config)"
   ]
  },
  {
   "cell_type": "code",
   "execution_count": null,
   "id": "b36ff40a",
   "metadata": {},
   "outputs": [],
   "source": [
    "import matplotlib.pyplot as plt\n",
    "import numpy as np\n",
    "import os\n",
    "import PIL\n",
    "import tensorflow as tf\n",
    "from tensorflow import keras\n",
    "from tensorflow.keras import layers\n",
    "from tensorflow.keras.layers import Dense, Flatten, Dropout\n",
    "from tensorflow.keras.models import Sequential\n",
    "from tensorflow.keras.optimizers import Adam\n",
    "from keras.preprocessing.image import ImageDataGenerator"
   ]
  },
  {
   "cell_type": "code",
   "execution_count": 4,
   "id": "c90f90bb",
   "metadata": {},
   "outputs": [
    {
     "name": "stdout",
     "output_type": "stream",
     "text": [
      "Found 101965 images belonging to 2 classes.\n"
     ]
    }
   ],
   "source": [
    "trainData = ImageDataGenerator()\n",
    "trainingdt = trainData.flow_from_directory(directory='RealvsFake/Training', target_size=(96,96))"
   ]
  },
  {
   "cell_type": "code",
   "execution_count": 5,
   "id": "793c7f6b",
   "metadata": {},
   "outputs": [
    {
     "name": "stdout",
     "output_type": "stream",
     "text": [
      "Found 20076 images belonging to 2 classes.\n"
     ]
    }
   ],
   "source": [
    "testData = ImageDataGenerator()\n",
    "testingdt = testData.flow_from_directory(directory='RealvsFake/Testing', target_size=(96,96))"
   ]
  },
  {
   "cell_type": "code",
   "execution_count": 6,
   "id": "90a26467",
   "metadata": {},
   "outputs": [],
   "source": [
    "def preprocess(file_path):\n",
    "        byte_img = tf.io.read_file(file_path)\n",
    "        img = tf.io.decode_jpeg(byte_img)\n",
    "        img = tf.image.resize(img, (96,96))\n",
    "        img = img / 255.0\n",
    "        return img"
   ]
  },
  {
   "cell_type": "code",
   "execution_count": 7,
   "id": "0e44e580",
   "metadata": {},
   "outputs": [],
   "source": [
    "model = Sequential()\n",
    "\n",
    "pretrained_model= tf.keras.applications.DenseNet201(include_top=False,\n",
    "                   input_shape= (96,96,3),\n",
    "                   pooling='max',classes=2,\n",
    "                   weights='imagenet')\n",
    "\n",
    "model.add(pretrained_model)"
   ]
  },
  {
   "cell_type": "code",
   "execution_count": 9,
   "id": "a37d5d50",
   "metadata": {},
   "outputs": [],
   "source": [
    "\n",
    "model.add(Dense(256, activation='relu'))\n",
    "model.add(Dense(128, activation='relu'))\n",
    "model.add(Dense(64, activation='relu'))\n",
    "\n",
    "model.add(Dense(2, kernel_regularizer=tf.keras.regularizers.l2(0.01),activation\n",
    "             ='elu'))"
   ]
  },
  {
   "cell_type": "code",
   "execution_count": 10,
   "id": "4949c50f",
   "metadata": {},
   "outputs": [
    {
     "name": "stdout",
     "output_type": "stream",
     "text": [
      "Model: \"sequential\"\n",
      "_________________________________________________________________\n",
      " Layer (type)                Output Shape              Param #   \n",
      "=================================================================\n",
      " densenet201 (Functional)    (None, 1920)              18321984  \n",
      "                                                                 \n",
      " dense (Dense)               (None, 256)               491776    \n",
      "                                                                 \n",
      " dense_1 (Dense)             (None, 128)               32896     \n",
      "                                                                 \n",
      " dense_2 (Dense)             (None, 64)                8256      \n",
      "                                                                 \n",
      " dense_3 (Dense)             (None, 2)                 130       \n",
      "                                                                 \n",
      "=================================================================\n",
      "Total params: 18,855,042\n",
      "Trainable params: 18,625,986\n",
      "Non-trainable params: 229,056\n",
      "_________________________________________________________________\n"
     ]
    }
   ],
   "source": [
    "model.summary()\n"
   ]
  },
  {
   "cell_type": "code",
   "execution_count": 11,
   "id": "3f1f4f0d",
   "metadata": {},
   "outputs": [
    {
     "name": "stderr",
     "output_type": "stream",
     "text": [
      "C:\\Users\\viola\\anaconda3\\envs\\keras_env\\lib\\site-packages\\keras\\optimizer_v2\\adam.py:105: UserWarning: The `lr` argument is deprecated, use `learning_rate` instead.\n",
      "  super(Adam, self).__init__(name, **kwargs)\n"
     ]
    },
    {
     "name": "stdout",
     "output_type": "stream",
     "text": [
      "Epoch 1/10\n",
      "100/100 [==============================] - 2914s 28s/step - loss: 0.6891 - acc: 0.7228 - val_loss: 0.5966 - val_acc: 0.7476\n",
      "Epoch 2/10\n",
      "100/100 [==============================] - 2609s 26s/step - loss: 0.5436 - acc: 0.7688 - val_loss: 0.5915 - val_acc: 0.7504\n",
      "Epoch 3/10\n",
      "100/100 [==============================] - 1454s 15s/step - loss: 0.5144 - acc: 0.7781 - val_loss: 0.5393 - val_acc: 0.7663\n",
      "Epoch 4/10\n",
      "100/100 [==============================] - 1318s 13s/step - loss: 0.4980 - acc: 0.7825 - val_loss: 0.6730 - val_acc: 0.7082\n",
      "Epoch 5/10\n",
      "100/100 [==============================] - 1289s 13s/step - loss: 0.5227 - acc: 0.7650 - val_loss: 0.5263 - val_acc: 0.7669\n",
      "Epoch 6/10\n",
      "100/100 [==============================] - 1351s 14s/step - loss: 0.5123 - acc: 0.7669 - val_loss: 0.5509 - val_acc: 0.7484\n",
      "Epoch 7/10\n",
      "100/100 [==============================] - 1364s 14s/step - loss: 0.4424 - acc: 0.8022 - val_loss: 0.6128 - val_acc: 0.7154\n",
      "Epoch 8/10\n",
      "100/100 [==============================] - 1373s 14s/step - loss: 0.4230 - acc: 0.8091 - val_loss: 0.6909 - val_acc: 0.6804\n",
      "Epoch 9/10\n",
      "100/100 [==============================] - 1329s 13s/step - loss: 0.4891 - acc: 0.7771 - val_loss: 0.5449 - val_acc: 0.7507\n",
      "Epoch 10/10\n",
      "100/100 [==============================] - 1228s 12s/step - loss: 0.4458 - acc: 0.7953 - val_loss: 0.4798 - val_acc: 0.7832\n"
     ]
    }
   ],
   "source": [
    "\n",
    "model.compile(optimizer=Adam(lr=3e-4),loss = 'hinge',metrics=['acc'])\n",
    "history = model.fit(trainingdt,validation_data= testingdt,epochs=10,steps_per_epoch=100) "
   ]
  },
  {
   "cell_type": "code",
   "execution_count": 12,
   "id": "f45b480b",
   "metadata": {},
   "outputs": [],
   "source": [
    "model.save('densenet201elu.h5')"
   ]
  },
  {
   "cell_type": "code",
   "execution_count": 13,
   "id": "b4025bd1",
   "metadata": {},
   "outputs": [
    {
     "data": {
      "image/png": "[encoded data removed]",
      "text/plain": [
       "<Figure size 432x288 with 1 Axes>"
      ]
     },
     "metadata": {
      "needs_background": "light"
     },
     "output_type": "display_data"
    }
   ],
   "source": [
    "fig1 = plt.gcf()\n",
    "plt.plot(history.history['val_acc'])\n",
    "plt.plot(history.history['acc'])\n",
    "\n",
    "plt.axis(ymin=0.04,ymax=1)\n",
    "plt.grid()\n",
    "plt.title('Model Accuracy')\n",
    "plt.ylabel('Accuracy')\n",
    "plt.xlabel('Epochs')\n",
    "plt.legend(['train', 'validation'])\n",
    "plt.show()"
   ]
  },
  {
   "cell_type": "code",
   "execution_count": 1,
   "id": "3659d116",
   "metadata": {},
   "outputs": [
    {
     "ename": "NameError",
     "evalue": "name 'plt' is not defined",
     "output_type": "error",
     "traceback": [
      "\u001b[1;31m---------------------------------------------------------------------------\u001b[0m",
      "\u001b[1;31mNameError\u001b[0m                                 Traceback (most recent call last)",
      "\u001b[1;32m~\\AppData\\Local\\Temp/ipykernel_8412/3694332424.py\u001b[0m in \u001b[0;36m<module>\u001b[1;34m\u001b[0m\n\u001b[1;32m----> 1\u001b[1;33m \u001b[0mfig1\u001b[0m \u001b[1;33m=\u001b[0m \u001b[0mplt\u001b[0m\u001b[1;33m.\u001b[0m\u001b[0mgcf\u001b[0m\u001b[1;33m(\u001b[0m\u001b[1;33m)\u001b[0m\u001b[1;33m\u001b[0m\u001b[1;33m\u001b[0m\u001b[0m\n\u001b[0m\u001b[0;32m      2\u001b[0m \u001b[0mplt\u001b[0m\u001b[1;33m.\u001b[0m\u001b[0mplot\u001b[0m\u001b[1;33m(\u001b[0m\u001b[0mhistory\u001b[0m\u001b[1;33m.\u001b[0m\u001b[0mhistory\u001b[0m\u001b[1;33m[\u001b[0m\u001b[1;34m'val_loss'\u001b[0m\u001b[1;33m]\u001b[0m\u001b[1;33m)\u001b[0m\u001b[1;33m\u001b[0m\u001b[1;33m\u001b[0m\u001b[0m\n\u001b[0;32m      3\u001b[0m \u001b[0mplt\u001b[0m\u001b[1;33m.\u001b[0m\u001b[0mplot\u001b[0m\u001b[1;33m(\u001b[0m\u001b[0mhistory\u001b[0m\u001b[1;33m.\u001b[0m\u001b[0mhistory\u001b[0m\u001b[1;33m[\u001b[0m\u001b[1;34m'loss'\u001b[0m\u001b[1;33m]\u001b[0m\u001b[1;33m)\u001b[0m\u001b[1;33m\u001b[0m\u001b[1;33m\u001b[0m\u001b[0m\n\u001b[0;32m      4\u001b[0m \u001b[1;33m\u001b[0m\u001b[0m\n\u001b[0;32m      5\u001b[0m \u001b[0mplt\u001b[0m\u001b[1;33m.\u001b[0m\u001b[0maxis\u001b[0m\u001b[1;33m(\u001b[0m\u001b[0mymin\u001b[0m\u001b[1;33m=\u001b[0m\u001b[1;36m1\u001b[0m\u001b[1;33m,\u001b[0m\u001b[0mymax\u001b[0m\u001b[1;33m=\u001b[0m\u001b[1;36m0.5\u001b[0m\u001b[1;33m)\u001b[0m\u001b[1;33m\u001b[0m\u001b[1;33m\u001b[0m\u001b[0m\n",
      "\u001b[1;31mNameError\u001b[0m: name 'plt' is not defined"
     ]
    }
   ],
   "source": [
    "fig1 = plt.gcf()\n",
    "plt.plot(history.history['val_loss'])\n",
    "plt.plot(history.history['loss'])\n",
    "\n",
    "plt.axis(ymin=1,ymax=0.5)\n",
    "plt.grid()\n",
    "plt.title('Model loss')\n",
    "plt.ylabel('loss')\n",
    "plt.xlabel('Epochs')\n",
    "plt.legend(['train', 'validation'])\n",
    "plt.show()"
   ]
  },
  {
   "cell_type": "code",
   "execution_count": null,
   "id": "843775f8",
   "metadata": {},
   "outputs": [],
   "source": []
  },
  {
   "cell_type": "code",
   "execution_count": null,
   "id": "42af2681",
   "metadata": {},
   "outputs": [],
   "source": []
  }
 ],
 "metadata": {
  "kernelspec": {
   "display_name": "Python 3 (ipykernel)",
   "language": "python",
   "name": "python3"
  },
  "language_info": {
   "codemirror_mode": {
    "name": "ipython",
    "version": 3
   },
   "file_extension": ".py",
   "mimetype": "text/x-python",
   "name": "python",
   "nbconvert_exporter": "python",
   "pygments_lexer": "ipython3",
   "version": "3.7.9"
  }
 },
 "nbformat": 4,
 "nbformat_minor": 5
}
